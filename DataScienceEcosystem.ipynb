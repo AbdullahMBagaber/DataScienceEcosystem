{
 "cells": [
  {
   "cell_type": "markdown",
   "id": "67830e11-7176-42b3-82ae-dceff27ddc60",
   "metadata": {},
   "source": [
    "# Data Science Tools and Ecosystem"
   ]
  },
  {
   "cell_type": "markdown",
   "id": "fcdbaade-fc00-4394-a4b8-53a7da0780de",
   "metadata": {},
   "source": [
    "**Objectives:**\n",
    "- List popular languages for Data Science\n",
    "- List popular Python libraries for Data Science\n",
    "- Show few examples of evaluating arithmetic expressions in Python"
   ]
  },
  {
   "cell_type": "markdown",
   "id": "db85148f-229d-4e6d-a759-76abaf5261c7",
   "metadata": {},
   "source": [
    "In this notebook, Data Science Tools and Ecosystem are summarized."
   ]
  },
  {
   "cell_type": "markdown",
   "id": "67f93c61-a18d-4c07-991d-d24c0f01713d",
   "metadata": {},
   "source": [
    "Some of the popular languages that Data Scientists use are:\r\n",
    "\r\n",
    "1. Python\r\n",
    "2. R\r\n",
    "3. Julia"
   ]
  },
  {
   "cell_type": "markdown",
   "id": "310741bf-29bb-4a7d-b786-7a43069d60d8",
   "metadata": {},
   "source": [
    "Some of the popular Python libraries for Data Science are:\n",
    "1. NumPy\n",
    "2. Pandas\n",
    "3. Matplotlib\r\n"
   ]
  },
  {
   "cell_type": "markdown",
   "id": "7ff1c39c-ed6c-4be1-82d9-70b9a90e6a05",
   "metadata": {},
   "source": [
    "\n",
    "\n",
    "| Data Science Tools |\n",
    "| ---------------------------------------- |\n",
    "| Jupyter Notebooks                        |\n",
    "| RStudio                                  |\n",
    "| VS Code with Python extension            |"
   ]
  },
  {
   "cell_type": "markdown",
   "id": "8dfcd711-7420-4432-921f-8d85fb300a59",
   "metadata": {},
   "source": [
    "### Below are a few examples of evaluating arithmetic expressions in Python"
   ]
  },
  {
   "cell_type": "code",
   "execution_count": 6,
   "id": "ab57c00d-0115-436e-b503-566f5d3085bb",
   "metadata": {},
   "outputs": [
    {
     "data": {
      "text/plain": [
       "17"
      ]
     },
     "execution_count": 6,
     "metadata": {},
     "output_type": "execute_result"
    }
   ],
   "source": [
    "#This a simple arithmetic expression to mutiply then add integers\n",
    "(3*4)+5 "
   ]
  },
  {
   "cell_type": "code",
   "execution_count": 8,
   "id": "a5cd9939-1f41-4e1d-9453-8dfdf0d4d44d",
   "metadata": {},
   "outputs": [
    {
     "name": "stdout",
     "output_type": "stream",
     "text": [
      "3.3333333333333335\n"
     ]
    }
   ],
   "source": [
    "#This will convert 200 minutes to hours by diving by 60\n",
    "minutes = 200\n",
    "hours = minutes / 60\n",
    "print(hours)"
   ]
  },
  {
   "cell_type": "markdown",
   "id": "2da94f39-9ec9-4f66-b5ba-35eccfc0f497",
   "metadata": {},
   "source": [
    "## Author\n",
    "Abdullah Bagaber"
   ]
  },
  {
   "cell_type": "code",
   "execution_count": null,
   "id": "3dbd752c-007a-443a-b6f5-b8b16e7e4854",
   "metadata": {},
   "outputs": [],
   "source": []
  }
 ],
 "metadata": {
  "kernelspec": {
   "display_name": "Python 3 (ipykernel)",
   "language": "python",
   "name": "python3"
  },
  "language_info": {
   "codemirror_mode": {
    "name": "ipython",
    "version": 3
   },
   "file_extension": ".py",
   "mimetype": "text/x-python",
   "name": "python",
   "nbconvert_exporter": "python",
   "pygments_lexer": "ipython3",
   "version": "3.11.5"
  }
 },
 "nbformat": 4,
 "nbformat_minor": 5
}
